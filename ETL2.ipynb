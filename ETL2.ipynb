{
 "cells": [
  {
   "cell_type": "code",
   "execution_count": 2,
   "metadata": {},
   "outputs": [],
   "source": [
    "import pandas as pd \n",
    "import numpy as np"
   ]
  },
  {
   "cell_type": "code",
   "execution_count": 141,
   "metadata": {},
   "outputs": [],
   "source": [
    "data = pd.read_csv('Data.csv')"
   ]
  },
  {
   "cell_type": "code",
   "execution_count": 142,
   "metadata": {},
   "outputs": [],
   "source": [
    "paises = list(data['Country Code'].unique())\n",
    "indicadores = list(data['Indicator Code'].unique())"
   ]
  },
  {
   "cell_type": "code",
   "execution_count": 143,
   "metadata": {},
   "outputs": [],
   "source": [
    "# Columnas de indicadores\n",
    "col_TX_VAL_TECH_MF = []\n",
    "col_TX_VAL_TECH_CD = []\n",
    "col_SP_POP_TECH_RD = []\n",
    "col_SP_POP_SCIE_RD = []\n",
    "col_IP_PAT_RESD = []\n",
    "col_IP_PAT_NRES = []\n",
    "col_IP_JRN_ARTC_SC = []\n",
    "col_GB_XPD_RSDV_GD = []\n",
    "col_BX_GSR_ROYL_CD = []\n",
    "col_BM_GSR_ROYL_CD = []\n",
    "\n",
    "pais_code = []\n",
    "años = []\n"
   ]
  },
  {
   "cell_type": "code",
   "execution_count": 144,
   "metadata": {},
   "outputs": [],
   "source": [
    "col = 0\n",
    "for pais in paises: # 'TX.VAL.TECH.MF.ZS'\n",
    "    x = data[(data['Country Code'] == pais) & (data['Indicator Code'] == 'TX.VAL.TECH.MF.ZS')]\n",
    "    x = x.transpose()\n",
    "    x = x[3:]\n",
    "    year = 1990\n",
    "    for i in x[col]:\n",
    "        col_TX_VAL_TECH_MF.append(i)\n",
    "        pais_code.append(pais) \n",
    "        años.append(year)\n",
    "        year += 1\n",
    "    col += 10\n",
    "\n",
    "col = 1\n",
    "for pais in paises: # 'TX.VAL.TECH.CD'\n",
    "    x = data[(data['Country Code'] == pais) & (data['Indicator Code'] == 'TX.VAL.TECH.CD')]\n",
    "    x = x.transpose()\n",
    "    x = x[3:]\n",
    "    for i in x[col]:\n",
    "        col_TX_VAL_TECH_CD.append(i)\n",
    "    col += 10\n",
    "    \n",
    "col = 2\n",
    "for pais in paises: # 'SP.POP.TECH.RD.P6'\n",
    "    x = data[(data['Country Code'] == pais) & (data['Indicator Code'] == 'SP.POP.TECH.RD.P6')]\n",
    "    x = x.transpose()\n",
    "    x = x[3:]\n",
    "    for i in x[col]:\n",
    "        col_SP_POP_TECH_RD.append(i)\n",
    "    col += 10\n",
    "\n",
    "col = 3\n",
    "for pais in paises: # 'SP.POP.SCIE.RD.P6'\n",
    "    x = data[(data['Country Code'] == pais) & (data['Indicator Code'] == 'SP.POP.SCIE.RD.P6')]\n",
    "    x = x.transpose()\n",
    "    x = x[3:]\n",
    "    for i in x[col]:\n",
    "        col_SP_POP_SCIE_RD.append(i)\n",
    "    col += 10\n",
    "\n",
    "col = 4\n",
    "for pais in paises: # 'IP.PAT.RESD'\n",
    "    x = data[(data['Country Code'] == pais) & (data['Indicator Code'] == 'IP.PAT.RESD')]\n",
    "    x = x.transpose()\n",
    "    x = x[3:]\n",
    "    for i in x[col]:\n",
    "        col_IP_PAT_RESD.append(i)\n",
    "    col += 10\n",
    "\n",
    "col = 5\n",
    "for pais in paises: # 'IP.PAT.NRES'\n",
    "    x = data[(data['Country Code'] == pais) & (data['Indicator Code'] == 'IP.PAT.NRES')]\n",
    "    x = x.transpose()\n",
    "    x = x[3:]\n",
    "    for i in x[col]:\n",
    "        col_IP_PAT_NRES.append(i)\n",
    "    col += 10\n",
    "\n",
    "col = 6\n",
    "for pais in paises: # 'IP.JRN.ARTC.SC'\n",
    "    x = data[(data['Country Code'] == pais) & (data['Indicator Code'] == 'IP.JRN.ARTC.SC')]\n",
    "    x = x.transpose()\n",
    "    x = x[3:]\n",
    "    for i in x[col]:\n",
    "        col_IP_JRN_ARTC_SC.append(i)\n",
    "    col += 10\n",
    "\n",
    "col = 7\n",
    "for pais in paises: # 'GB.XPD.RSDV.GD.ZS'\n",
    "    x = data[(data['Country Code'] == pais) & (data['Indicator Code'] == 'GB.XPD.RSDV.GD.ZS')]\n",
    "    x = x.transpose()\n",
    "    x = x[3:]\n",
    "    for i in x[col]:\n",
    "        col_GB_XPD_RSDV_GD.append(i)\n",
    "    col += 10\n",
    "\n",
    "col = 8\n",
    "for pais in paises: # 'BX.GSR.ROYL.CD'\n",
    "    x = data[(data['Country Code'] == pais) & (data['Indicator Code'] == 'BX.GSR.ROYL.CD')]\n",
    "    x = x.transpose()\n",
    "    x = x[3:]\n",
    "    for i in x[col]:\n",
    "        col_BX_GSR_ROYL_CD.append(i)\n",
    "    col += 10\n",
    "\n",
    "col = 9\n",
    "for pais in paises: # 'BM.GSR.ROYL.CD'\n",
    "    x = data[(data['Country Code'] == pais) & (data['Indicator Code'] == 'BM.GSR.ROYL.CD')]\n",
    "    x = x.transpose()\n",
    "    x = x[3:]\n",
    "    for i in x[col]:\n",
    "        col_BM_GSR_ROYL_CD.append(i)\n",
    "    col += 10\n"
   ]
  },
  {
   "cell_type": "code",
   "execution_count": 145,
   "metadata": {},
   "outputs": [],
   "source": [
    "df = pd.DataFrame()\n",
    "df['años'] = pd.Series(años)\n",
    "df['pais_code'] = pd.Series(pais_code)\n",
    "df['TX.VAL.TECH.MF.ZS'] = pd.Series(col_TX_VAL_TECH_MF)\n",
    "df['TX.VAL.TECH.CD'] = pd.Series(col_TX_VAL_TECH_CD)\n",
    "df['SP.POP.TECH.RD.P6'] = pd.Series(col_SP_POP_TECH_RD)\n",
    "df['SP.POP.SCIE.RD.P6'] = pd.Series(col_SP_POP_SCIE_RD)\n",
    "df['IP.PAT.RESD'] = pd.Series(col_IP_PAT_RESD)\n",
    "df['IP.PAT.NRES'] = pd.Series(col_IP_PAT_NRES)\n",
    "df['IP.JRN.ARTC.SC'] = pd.Series(col_IP_JRN_ARTC_SC)\n",
    "df['GB.XPD.RSDV.GD.ZS'] = pd.Series(col_GB_XPD_RSDV_GD)\n",
    "df['BX.GSR.ROYL.CD'] = pd.Series(col_BX_GSR_ROYL_CD)\n",
    "df['BM.GSR.ROYL.CD'] = pd.Series(col_BM_GSR_ROYL_CD)"
   ]
  },
  {
   "cell_type": "code",
   "execution_count": 63,
   "metadata": {},
   "outputs": [],
   "source": [
    "def recorte_valores(num_recort:int, list_valores:list):\n",
    "    list_valores.sort()\n",
    "    for i in range(num_recort):\n",
    "        list_valores.pop(0)\n",
    "\n",
    "    for i in range(num_recort):\n",
    "        list_valores.pop()\n",
    "    \n",
    "    return list_valores\n"
   ]
  },
  {
   "cell_type": "code",
   "execution_count": 152,
   "metadata": {},
   "outputs": [],
   "source": [
    "df.to_csv('Data_modif.csv')"
   ]
  },
  {
   "cell_type": "code",
   "execution_count": 61,
   "metadata": {},
   "outputs": [],
   "source": [
    "df = pd.read_csv('Data_modif.csv')\n",
    "df_data = df[df['pais_code'] == 'DEU']['IP.PAT.RESD']\n"
   ]
  },
  {
   "cell_type": "code",
   "execution_count": 62,
   "metadata": {},
   "outputs": [
    {
     "data": {
      "text/plain": [
       "1760    30724.0\n",
       "1761    32256.0\n",
       "1762    33919.0\n",
       "1763    34752.0\n",
       "1764    36715.0\n",
       "1765    38103.0\n",
       "1766    42322.0\n",
       "1767    44438.0\n",
       "1768    46523.0\n",
       "1769    50029.0\n",
       "1770    51736.0\n",
       "1771    49989.0\n",
       "1772    47598.0\n",
       "1773    47818.0\n",
       "1774    48448.0\n",
       "1775    48367.0\n",
       "1776    48012.0\n",
       "1777    47853.0\n",
       "1778    49240.0\n",
       "1779    47859.0\n",
       "1780    47047.0\n",
       "1781    46986.0\n",
       "1782    46620.0\n",
       "1783    47353.0\n",
       "1784    48154.0\n",
       "1785    47384.0\n",
       "1786    48480.0\n",
       "1787    47785.0\n",
       "1788    46617.0\n",
       "1789    46632.0\n",
       "1790    42260.0\n",
       "1791        0.0\n",
       "Name: IP.PAT.RESD, dtype: float64"
      ]
     },
     "execution_count": 62,
     "metadata": {},
     "output_type": "execute_result"
    }
   ],
   "source": [
    "df_data"
   ]
  },
  {
   "cell_type": "code",
   "execution_count": 56,
   "metadata": {},
   "outputs": [],
   "source": [
    "recorte = 0.1 # Porcentaje de recorte de la muestra\n",
    "num_recorte = int(recorte*df_data.shape[0])\n",
    "list_values = list(df_data)"
   ]
  },
  {
   "cell_type": "code",
   "execution_count": 57,
   "metadata": {},
   "outputs": [],
   "source": [
    "recor_list = recorte_valores(num_recorte,list_values)"
   ]
  },
  {
   "cell_type": "code",
   "execution_count": 58,
   "metadata": {},
   "outputs": [
    {
     "data": {
      "text/plain": [
       "[21.0,\n",
       " 27.0,\n",
       " 28.0,\n",
       " 29.0,\n",
       " 29.0,\n",
       " 31.0,\n",
       " 31.0,\n",
       " 32.0,\n",
       " 34.0,\n",
       " 36.0,\n",
       " 37.0,\n",
       " 38.0,\n",
       " 39.0,\n",
       " 39.0,\n",
       " 39.0,\n",
       " 40.0,\n",
       " 48.0,\n",
       " 48.0,\n",
       " 49.0,\n",
       " 52.0,\n",
       " 54.0,\n",
       " 67.0,\n",
       " 72.0,\n",
       " 73.0,\n",
       " 83.0,\n",
       " 89.0]"
      ]
     },
     "execution_count": 58,
     "metadata": {},
     "output_type": "execute_result"
    }
   ],
   "source": [
    "recor_list"
   ]
  },
  {
   "cell_type": "code",
   "execution_count": 22,
   "metadata": {},
   "outputs": [
    {
     "data": {
      "text/plain": [
       "[2, 8, 9, 3, 3, 4]"
      ]
     },
     "execution_count": 22,
     "metadata": {},
     "output_type": "execute_result"
    }
   ],
   "source": [
    "fr = [1,2,8,9,3,3,4]\n",
    "fr.pop(0)\n",
    "fr"
   ]
  },
  {
   "cell_type": "code",
   "execution_count": 20,
   "metadata": {},
   "outputs": [
    {
     "data": {
      "text/plain": [
       "[1, 2, 8, 9, 3]"
      ]
     },
     "execution_count": 20,
     "metadata": {},
     "output_type": "execute_result"
    }
   ],
   "source": [
    "fr.pop()\n",
    "fr"
   ]
  }
 ],
 "metadata": {
  "kernelspec": {
   "display_name": "Python 3.10.7 64-bit",
   "language": "python",
   "name": "python3"
  },
  "language_info": {
   "codemirror_mode": {
    "name": "ipython",
    "version": 3
   },
   "file_extension": ".py",
   "mimetype": "text/x-python",
   "name": "python",
   "nbconvert_exporter": "python",
   "pygments_lexer": "ipython3",
   "version": "3.10.7"
  },
  "orig_nbformat": 4,
  "vscode": {
   "interpreter": {
    "hash": "768ed05c3ef8b2c1ddddab0cec77f964ed6ea41732cd5ab8bcc435db316b9d80"
   }
  }
 },
 "nbformat": 4,
 "nbformat_minor": 2
}
