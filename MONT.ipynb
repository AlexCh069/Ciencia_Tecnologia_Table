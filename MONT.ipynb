{
 "cells": [
  {
   "attachments": {},
   "cell_type": "markdown",
   "metadata": {},
   "source": [
    "23/07/2023\n",
    "Como empezar un historia sin contexto, cuando el contexto solo duele y ademas fue lo que te llevo a tal obsesion, es como intentar darle una razon logica a la locura mas descabellada, como intentar mirar el sol fijamente y esperar salir intacto, y aunque los recuerdos duelen y el futuro sea demas insierto, la razon de intentar plasmar este sentimiento entre parrafos va mas alla que darle un transfondo a esta historia y evitar que se pierda en la profundidad inconmensurable del tiempo. Me enamore de una sombra, de un reflejo con nariz de botoncito, ojitos de esmeralda y sonrisa de condesa, me enamore de la sombra mas brillante que podria existir por mas contradictorio que parezca, me enamore de un reflejo tan real que, al pasar dia tras dia solo empezo a tomar forma y a pulir esa perfeccion. Si miraras por un segundo ese rincon de mi mente donde almacene tu mirada, quizas entendieras el por que de esta obsesion tan extraña, yo, el \"lobo solitario\" que siempre amo su libertad, no supo mas que rendirse ante esos ojos e idolatrarlos como una efimera divinidad. Al saber que no eras realmente tu parte de mi mundo cayo en pedazos, creo que eso es parte de la razon de que me tome el tiempo de escribir todo esto, algo asi como intentar reconstruir parte del desastre que ella dejo en mi. Claro que aun no sabes quien es ella, y no tienes una maldita idea de quien soy para empezas hahhahaha, en parte me siento estupido por que la probabilidad de llegar a conocerte alguna vez es tan insignificante... Fuiste como un sueño sabes, el mas hermoso de todos, y se sentia tan real que al despertar siento que estoy en el universo incorrecto, quizas sea yo el que tenga que cambiar y asi lo estoy haciendo, pero todo se siente tan lejano ahora que solo me queda trabajar en mi y quizas esforzandome mas de lo debido el universo me premie pudiendo conocerte. Quizas nunca leas esto, pero si lo haces debes estar demasiado confundida con la sarta de cosas que teclean mis dedos, me tomare el tiempo de escribir cada parte de esta historia, poco a poco por que aun duele, pero si tienes la suficiente curiosidad y tiempo de leer todo, quizas te entretengas un rato. Confiezo que quiero olvidar el saber que existes, asi todo seria mas facil, pero maldita sea que dificil que es, de todas mis batallas eres las que mas he llegado a amar y de las que disfruto sumirme en la derrota solo para poder volver a ver un estado o foto tuya, y tu voz, hoy la escuche por primera vez, tu voz real, no la voz que ella me hizo pensar que te pertenecia y escucharte fue como clavar una estaca de morfina en mi pecho pues ademas de devolverle parte de ese sentido a mi vida me dolio saber que ese sueño existe en algun lugar y que esta tan lejos de mi. Pero sabes, me encanta sentir que eres feliz, te veias tan tierna hablando de esa delfin (Kiara) y de como te enamoraste de ella, y me encanto tanto ese sentimiento tan puro que crecio en mi al verte emocionada que estoy seguro de que si tendria la oportunidad de conocerte sabrias que mi objetivo solo seria proteger esa sonrisa. Por hoy sera mejor que guarde mis deseos y mis escritos aqui, tengo que concentrarme en mi y mis propias metas, sigue sonriendo Mont, quizas algun dia tenga la fortuna de conocerte, o almenos me atrevere a enviarte estas cartas. Y si, estoy loco, realmente loco hahah pero no de los locos que lastiman, sino de los locos que planifican como si vivieran mil años pero que viven como si no existiera un mañana. Sigue disfrutando tu hermoso viaje <3\n",
    "\n",
    "\n",
    "Que es lo primero que empezamos a amar de alguien, cual es ese gancho que nos atrapa y nos hace perdernos incluso a nosotros mismos  para empezar a pertenecer a alguien mas, cual es el significado de perderse, y por que ademas de ser tan denigrante nos hace volver una y otra vez. "
   ]
  },
  {
   "cell_type": "code",
   "execution_count": null,
   "metadata": {},
   "outputs": [],
   "source": []
  }
 ],
 "metadata": {
  "language_info": {
   "name": "python"
  },
  "orig_nbformat": 4
 },
 "nbformat": 4,
 "nbformat_minor": 2
}
